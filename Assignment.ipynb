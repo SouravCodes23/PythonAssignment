{
 "cells": [
  {
   "cell_type": "code",
   "execution_count": 1,
   "id": "783fa912-c0c4-4da4-a373-b2e03257525f",
   "metadata": {},
   "outputs": [],
   "source": [
    "Q1. Create one variable containing following type of data:\n",
    "\n",
    "(i)\tstring\n",
    "\n",
    "(ii)\tlist\n",
    "\n",
    "(iii)\tfloat\n",
    "\n",
    "(iv)\ttuple"
   ]
  },
  {
   "cell_type": "code",
   "execution_count": 1,
   "id": "61109f73-52e2-48f4-a871-e86b15448d66",
   "metadata": {},
   "outputs": [],
   "source": [
    "a = \"sourav\""
   ]
  },
  {
   "cell_type": "code",
   "execution_count": 3,
   "id": "313e9964-d0f8-40fa-89c4-2afc2a7f80f7",
   "metadata": {},
   "outputs": [
    {
     "data": {
      "text/plain": [
       "str"
      ]
     },
     "execution_count": 3,
     "metadata": {},
     "output_type": "execute_result"
    }
   ],
   "source": [
    "type(a)"
   ]
  },
  {
   "cell_type": "code",
   "execution_count": 4,
   "id": "292fb282-2e1e-45a3-a72a-11f9b0fb0eae",
   "metadata": {},
   "outputs": [],
   "source": [
    "l = [1,2,3,4,5,True]"
   ]
  },
  {
   "cell_type": "code",
   "execution_count": 5,
   "id": "5295b90f-1750-4697-84d3-cd386afa2452",
   "metadata": {},
   "outputs": [
    {
     "data": {
      "text/plain": [
       "list"
      ]
     },
     "execution_count": 5,
     "metadata": {},
     "output_type": "execute_result"
    }
   ],
   "source": [
    "type(l)"
   ]
  },
  {
   "cell_type": "code",
   "execution_count": 6,
   "id": "9297b43e-6dc5-407d-9483-a424af5ab537",
   "metadata": {},
   "outputs": [],
   "source": [
    " b = 34.54"
   ]
  },
  {
   "cell_type": "code",
   "execution_count": 7,
   "id": "d7012491-6852-417b-b182-1019dab62408",
   "metadata": {},
   "outputs": [
    {
     "data": {
      "text/plain": [
       "float"
      ]
     },
     "execution_count": 7,
     "metadata": {},
     "output_type": "execute_result"
    }
   ],
   "source": [
    "type(b)"
   ]
  },
  {
   "cell_type": "code",
   "execution_count": null,
   "id": "4f459e91-a8ae-4a3a-b111-a8897a579802",
   "metadata": {},
   "outputs": [],
   "source": [
    "Q2. Given are some following variables containing data:\n",
    "\n",
    "(i)\tvar1 = ‘ ‘\n",
    "\n",
    "(ii)\tvar2 = ‘[ DS , ML , Python]’\n",
    "\n",
    "(iii)\tvar3 = [ ‘DS’ , ’ML’ , ‘Python’ ]\n",
    "\n",
    "(iv)\tvar4 = 1.\n",
    "\n",
    "\n",
    "What will be the data type of the above given variable."
   ]
  },
  {
   "cell_type": "code",
   "execution_count": 2,
   "id": "9cbc25d1-1fa6-4bbb-a21a-c43cf339cd84",
   "metadata": {},
   "outputs": [],
   "source": [
    "var1 = '  '"
   ]
  },
  {
   "cell_type": "code",
   "execution_count": 3,
   "id": "04f0d928-a128-40ca-845b-7a22a7a6f257",
   "metadata": {},
   "outputs": [
    {
     "data": {
      "text/plain": [
       "str"
      ]
     },
     "execution_count": 3,
     "metadata": {},
     "output_type": "execute_result"
    }
   ],
   "source": [
    "type(var1)"
   ]
  },
  {
   "cell_type": "code",
   "execution_count": 4,
   "id": "0ff73b4d-8b25-4a43-ad79-b134a9e2fd2f",
   "metadata": {},
   "outputs": [],
   "source": [
    "var2 = '[ DS , ML , Python]'"
   ]
  },
  {
   "cell_type": "code",
   "execution_count": 5,
   "id": "efb757ed-877c-408b-a7c2-299ae0092b87",
   "metadata": {},
   "outputs": [
    {
     "data": {
      "text/plain": [
       "str"
      ]
     },
     "execution_count": 5,
     "metadata": {},
     "output_type": "execute_result"
    }
   ],
   "source": [
    "type(var2)"
   ]
  },
  {
   "cell_type": "code",
   "execution_count": 6,
   "id": "e23a11e3-9605-4fda-afa6-2dd96222df07",
   "metadata": {},
   "outputs": [],
   "source": [
    "var3 = [ 'DS' , 'ML' , 'Python']"
   ]
  },
  {
   "cell_type": "code",
   "execution_count": 7,
   "id": "4a3c7126-290f-4f4e-b3f9-1062711f7a4d",
   "metadata": {},
   "outputs": [
    {
     "data": {
      "text/plain": [
       "list"
      ]
     },
     "execution_count": 7,
     "metadata": {},
     "output_type": "execute_result"
    }
   ],
   "source": [
    "type(var3)"
   ]
  },
  {
   "cell_type": "code",
   "execution_count": 8,
   "id": "e0139486-65e6-4dad-9e24-e24785bf4060",
   "metadata": {},
   "outputs": [],
   "source": [
    "var4 = 1"
   ]
  },
  {
   "cell_type": "code",
   "execution_count": 9,
   "id": "4ecebc23-2268-4566-8927-e153f6623be0",
   "metadata": {},
   "outputs": [
    {
     "data": {
      "text/plain": [
       "int"
      ]
     },
     "execution_count": 9,
     "metadata": {},
     "output_type": "execute_result"
    }
   ],
   "source": [
    "type(var4)"
   ]
  },
  {
   "cell_type": "code",
   "execution_count": null,
   "id": "67e41125-09ec-4ffd-83a5-c58d20ee827f",
   "metadata": {},
   "outputs": [],
   "source": [
    "Q3. Explain the use of the following operators using an example:\n",
    "\n",
    "(i)\t/\n",
    "\n",
    "(ii)\t% \n",
    "\n",
    "(iii)\t//\n",
    "\n",
    "(iv)\t**"
   ]
  },
  {
   "cell_type": "code",
   "execution_count": 17,
   "id": "fc5583f7-2689-45b6-b722-f235333334f1",
   "metadata": {},
   "outputs": [],
   "source": [
    "#Arithmetic Operator\n",
    "(i) = 3/4"
   ]
  },
  {
   "cell_type": "code",
   "execution_count": 18,
   "id": "6a4810a9-6180-42d3-b246-903f5fd088fd",
   "metadata": {},
   "outputs": [
    {
     "data": {
      "text/plain": [
       "0.75"
      ]
     },
     "execution_count": 18,
     "metadata": {},
     "output_type": "execute_result"
    }
   ],
   "source": [
    "(i)"
   ]
  },
  {
   "cell_type": "code",
   "execution_count": 23,
   "id": "31e311c2-5af4-4302-863b-bbd80ec849ad",
   "metadata": {},
   "outputs": [],
   "source": [
    "#Modulus Operator\n",
    "(ii) = 15%6"
   ]
  },
  {
   "cell_type": "code",
   "execution_count": 24,
   "id": "19b748ef-7003-4963-bdae-192e7a23610d",
   "metadata": {},
   "outputs": [
    {
     "data": {
      "text/plain": [
       "3"
      ]
     },
     "execution_count": 24,
     "metadata": {},
     "output_type": "execute_result"
    }
   ],
   "source": [
    "(ii)"
   ]
  },
  {
   "cell_type": "code",
   "execution_count": 25,
   "id": "0e16d996-06a5-4cad-b8ac-8068059f72c0",
   "metadata": {},
   "outputs": [],
   "source": [
    "#Division or Floor Operator\n",
    "(iii) = 6//3"
   ]
  },
  {
   "cell_type": "code",
   "execution_count": 26,
   "id": "f14a11d4-3b46-4e9e-8cff-51b7c79ca6de",
   "metadata": {},
   "outputs": [
    {
     "data": {
      "text/plain": [
       "2"
      ]
     },
     "execution_count": 26,
     "metadata": {},
     "output_type": "execute_result"
    }
   ],
   "source": [
    "(iii)"
   ]
  },
  {
   "cell_type": "code",
   "execution_count": 27,
   "id": "b9d44dcb-efba-4592-8ec3-a8ef9b7ea4a9",
   "metadata": {},
   "outputs": [],
   "source": [
    "#Exponent operator\n",
    "(iv) = 5**8"
   ]
  },
  {
   "cell_type": "code",
   "execution_count": 28,
   "id": "a9447605-80d4-4687-ac60-cc4af7eb1249",
   "metadata": {},
   "outputs": [
    {
     "data": {
      "text/plain": [
       "390625"
      ]
     },
     "execution_count": 28,
     "metadata": {},
     "output_type": "execute_result"
    }
   ],
   "source": [
    "(iv)"
   ]
  },
  {
   "cell_type": "code",
   "execution_count": null,
   "id": "ef27fb79-4158-41d1-bd66-16d9c00562ee",
   "metadata": {},
   "outputs": [],
   "source": [
    "Q4. Create a list of length 10 of your choice containing multiple types of data. Using for loop print the \n",
    "element and its data type."
   ]
  },
  {
   "cell_type": "code",
   "execution_count": 29,
   "id": "1f36999f-ff5d-434e-b85e-b77440aaccd3",
   "metadata": {},
   "outputs": [],
   "source": [
    " l = [2,3,4,5,6,7,8,54.65,89,9]"
   ]
  },
  {
   "cell_type": "code",
   "execution_count": 31,
   "id": "fa49dd5f-4b91-4716-a4c9-c6420226a432",
   "metadata": {},
   "outputs": [
    {
     "name": "stdout",
     "output_type": "stream",
     "text": [
      "<class 'int'>\n",
      "2\n",
      "<class 'int'>\n",
      "3\n",
      "<class 'int'>\n",
      "4\n",
      "<class 'int'>\n",
      "5\n",
      "<class 'int'>\n",
      "6\n",
      "<class 'int'>\n",
      "7\n",
      "<class 'int'>\n",
      "8\n",
      "<class 'float'>\n",
      "54.65\n",
      "<class 'int'>\n",
      "89\n",
      "<class 'int'>\n"
     ]
    }
   ],
   "source": [
    "for i in l :\n",
    "    print(type(i))\n",
    "    if i == 9 :\n",
    "        continue\n",
    "    print(i)"
   ]
  },
  {
   "cell_type": "code",
   "execution_count": null,
   "id": "3310a61c-8cfa-4e78-acc3-926a3ea5589d",
   "metadata": {},
   "outputs": [],
   "source": [
    "Q5. Using a while loop, verify if the number A is purely divisible by number B and if so then how many \n",
    "times it can be divisible."
   ]
  },
  {
   "cell_type": "code",
   "execution_count": 33,
   "id": "0cf8e389-f7ec-4e98-a549-110e19531099",
   "metadata": {},
   "outputs": [],
   "source": [
    "def count_divisions(A, B):\n",
    "    if B == 0:\n",
    "        raise ValueError(\"Cannot divide by zero (B should be non-zero).\")\n",
    "\n",
    "    count = 0\n",
    "    while A % B == 0:\n",
    "        A //= B\n",
    "        count += 1\n",
    "\n",
    "    return count\n"
   ]
  },
  {
   "cell_type": "code",
   "execution_count": 33,
   "id": "4c6cebd9-66f5-4ccd-a2cf-b1a8f4ab0eff",
   "metadata": {},
   "outputs": [],
   "source": [
    "Q6. Create a list containing 25 int type data. Using for loop and if-else condition print if the element is \n",
    "divisible by 3 or not."
   ]
  },
  {
   "cell_type": "code",
   "execution_count": 6,
   "id": "15f5b3df-a4f5-44d8-b80c-b39a59e41200",
   "metadata": {},
   "outputs": [
    {
     "name": "stdout",
     "output_type": "stream",
     "text": [
      "1 is not divisible by 3.\n",
      "2 is not divisible by 3.\n",
      "3 is divisible by 3.\n",
      "4 is not divisible by 3.\n",
      "5 is not divisible by 3.\n",
      "6 is divisible by 3.\n",
      "7 is not divisible by 3.\n",
      "8 is not divisible by 3.\n",
      "9 is divisible by 3.\n",
      "10 is not divisible by 3.\n",
      "11 is not divisible by 3.\n",
      "12 is divisible by 3.\n",
      "13 is not divisible by 3.\n",
      "14 is not divisible by 3.\n",
      "15 is divisible by 3.\n",
      "16 is not divisible by 3.\n",
      "17 is not divisible by 3.\n",
      "18 is divisible by 3.\n",
      "19 is not divisible by 3.\n",
      "20 is not divisible by 3.\n",
      "21 is divisible by 3.\n",
      "22 is not divisible by 3.\n",
      "23 is not divisible by 3.\n",
      "24 is divisible by 3.\n",
      "25 is not divisible by 3.\n"
     ]
    }
   ],
   "source": [
    "l = [i for i in range(1, 26)]\n",
    "for n in l:\n",
    "    if n % 3 == 0:\n",
    "        print( f\"{n} is divisible by 3.\")\n",
    "    else:\n",
    "        print( f\"{n} is not divisible by 3.\")"
   ]
  },
  {
   "cell_type": "code",
   "execution_count": null,
   "id": "6a658121-275f-4c7d-8b2e-16698cb94b30",
   "metadata": {},
   "outputs": [],
   "source": [
    "Q7. What do you understand about mutable and immutable data types? Give examples for both showing \n",
    "this property."
   ]
  },
  {
   "cell_type": "code",
   "execution_count": 7,
   "id": "b5b55f7f-260e-4d90-8e13-783ccdb54224",
   "metadata": {},
   "outputs": [],
   "source": [
    "#Mutable Data Type - Mutable objects are those that allow you to change their value or data in place without affecting the object’s Data\n",
    "#example\n",
    "l = [1,2,3,4,5,6,7,8]"
   ]
  },
  {
   "cell_type": "code",
   "execution_count": 9,
   "id": "b1cee682-2159-4a02-bf41-ba1c84b76752",
   "metadata": {},
   "outputs": [],
   "source": [
    "l[2] = 34 "
   ]
  },
  {
   "cell_type": "code",
   "execution_count": 10,
   "id": "886dc3cc-9693-4ece-bb75-14291e8dfca8",
   "metadata": {},
   "outputs": [
    {
     "data": {
      "text/plain": [
       "[1, 2, 34, 4, 5, 6, 7, 8]"
      ]
     },
     "execution_count": 10,
     "metadata": {},
     "output_type": "execute_result"
    }
   ],
   "source": [
    "l"
   ]
  },
  {
   "cell_type": "code",
   "execution_count": 11,
   "id": "9f8314d0-3cc7-44e6-8c0b-37bf9ef14ca0",
   "metadata": {},
   "outputs": [],
   "source": [
    "#Imutable Data Type -  immutable objects don’t allow this kind of operation. You’ll just have the option of creating new objects of the same type with different values.\n",
    "#example\n",
    "s = \"Sourav\""
   ]
  },
  {
   "cell_type": "code",
   "execution_count": 14,
   "id": "f1438d59-5fe2-4185-aab2-2715bf4060a5",
   "metadata": {},
   "outputs": [
    {
     "ename": "TypeError",
     "evalue": "'str' object does not support item assignment",
     "output_type": "error",
     "traceback": [
      "\u001b[0;31m---------------------------------------------------------------------------\u001b[0m",
      "\u001b[0;31mTypeError\u001b[0m                                 Traceback (most recent call last)",
      "Cell \u001b[0;32mIn[14], line 1\u001b[0m\n\u001b[0;32m----> 1\u001b[0m \u001b[43ms\u001b[49m\u001b[43m[\u001b[49m\u001b[38;5;241;43m1\u001b[39;49m\u001b[43m]\u001b[49m \u001b[38;5;241m=\u001b[39m \u001b[38;5;124m'\u001b[39m\u001b[38;5;124ma\u001b[39m\u001b[38;5;124m'\u001b[39m\n",
      "\u001b[0;31mTypeError\u001b[0m: 'str' object does not support item assignment"
     ]
    }
   ],
   "source": [
    "s[1] = 'a'"
   ]
  },
  {
   "cell_type": "code",
   "execution_count": null,
   "id": "d7ba49dd-95f6-466a-8eb9-e5029a199c72",
   "metadata": {},
   "outputs": [],
   "source": []
  }
 ],
 "metadata": {
  "kernelspec": {
   "display_name": "Python 3 (ipykernel)",
   "language": "python",
   "name": "python3"
  },
  "language_info": {
   "codemirror_mode": {
    "name": "ipython",
    "version": 3
   },
   "file_extension": ".py",
   "mimetype": "text/x-python",
   "name": "python",
   "nbconvert_exporter": "python",
   "pygments_lexer": "ipython3",
   "version": "3.10.8"
  }
 },
 "nbformat": 4,
 "nbformat_minor": 5
}
